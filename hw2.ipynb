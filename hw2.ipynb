{
 "cells": [
  {
   "cell_type": "markdown",
   "metadata": {},
   "source": [
    "# CPSC 330 - Applied Machine Learning \n",
    "\n",
    "## Homework 2: Decision trees and machine learning fundamentals \n",
    "### Associated lectures: [Lectures 2 and 3](https://github.com/UBC-CS/cpsc330-2022W2/tree/main/lectures) \n",
    "\n",
    "**Due date: Monday Jan 23, 2023 at 11:59pm**"
   ]
  },
  {
   "cell_type": "code",
   "execution_count": 1,
   "metadata": {},
   "outputs": [],
   "source": [
    "import matplotlib.pyplot as plt\n",
    "import numpy as np\n",
    "import pandas as pd\n",
    "\n",
    "plt.rcParams[\"font.size\"] = 16\n",
    "\n",
    "from sklearn.model_selection import cross_val_score, cross_validate, train_test_split\n",
    "from sklearn.tree import DecisionTreeClassifier"
   ]
  },
  {
   "cell_type": "markdown",
   "metadata": {},
   "source": [
    "## Instructions\n",
    "rubric={points:3}\n",
    "\n",
    "Follow the [homework submission instructions](https://github.com/UBC-CS/cpsc330-2022W2/blob/main/docs/homework_instructions.md). In particular, **see the note about not pushing downloaded data to your repo**.\n",
    "\n",
    "You are allowed to work and submit in pairs in this homework assignment. "
   ]
  },
  {
   "cell_type": "markdown",
   "metadata": {},
   "source": [
    "## Introducing the data set\n",
    " \n",
    "For this  assignment you'll be looking at Kaggle's [Spotify Song Attributes](https://www.kaggle.com/geomack/spotifyclassification/) dataset.\n",
    "The dataset contains a number of features of songs from 2017 and a binary variable `target` that represents whether the user liked the song (encoded as 1) or not (encoded as 0). See the documentation of all the features [here](https://developer.spotify.com/documentation/web-api/reference/tracks/get-audio-features/). \n",
    "\n",
    "This dataset is publicly available on Kaggle, and you will have to download it yourself. Follow the steps below to get the data CSV. \n",
    "\n",
    "1. If you do not have an account with [Kaggle](https://www.kaggle.com/), you will first need to create one (it's free).\n",
    "2. Login to your account and [download](https://www.kaggle.com/geomack/spotifyclassification/download) the dataset.\n",
    "3. Unzip the data file if needed, then rename it to `spotify.csv`, and move it to the same directory as this notebook."
   ]
  },
  {
   "cell_type": "markdown",
   "metadata": {},
   "source": [
    "## Exercise 1: Exploratory data analysis"
   ]
  },
  {
   "cell_type": "markdown",
   "metadata": {
    "nbgrader": {
     "grade": false,
     "grade_id": "cell-d4d478b6cdc9bf88",
     "locked": true,
     "schema_version": 3,
     "solution": false
    }
   },
   "source": [
    "#### 1(a) \n",
    "rubric={points:2}\n",
    "\n",
    "Read in the data CSV and store it as a pandas dataframe named `spotify_df`. The first column of the .csv file should be set as the index. **Note:** you may need to change the name of the file if it does not match the download."
   ]
  },
  {
   "cell_type": "code",
   "execution_count": 2,
   "metadata": {
    "nbgrader": {
     "grade": true,
     "grade_id": "cell-4f3f14b59fd7e6b8",
     "locked": false,
     "points": 0,
     "schema_version": 3,
     "solution": true,
     "task": false
    }
   },
   "outputs": [
    {
     "name": "stdout",
     "output_type": "stream",
     "text": [
      "      acousticness  danceability  duration_ms  energy  instrumentalness  key  \\\n",
      "0          0.01020         0.833       204600   0.434          0.021900    2   \n",
      "1          0.19900         0.743       326933   0.359          0.006110    1   \n",
      "2          0.03440         0.838       185707   0.412          0.000234    2   \n",
      "3          0.60400         0.494       199413   0.338          0.510000    5   \n",
      "4          0.18000         0.678       392893   0.561          0.512000    5   \n",
      "...            ...           ...          ...     ...               ...  ...   \n",
      "2012       0.00106         0.584       274404   0.932          0.002690    1   \n",
      "2013       0.08770         0.894       182182   0.892          0.001670    1   \n",
      "2014       0.00857         0.637       207200   0.935          0.003990    0   \n",
      "2015       0.00164         0.557       185600   0.992          0.677000    1   \n",
      "2016       0.00281         0.446       204520   0.915          0.000039    9   \n",
      "\n",
      "      liveness  loudness  mode  speechiness    tempo  time_signature  valence  \\\n",
      "0       0.1650    -8.795     1       0.4310  150.062             4.0    0.286   \n",
      "1       0.1370   -10.401     1       0.0794  160.083             4.0    0.588   \n",
      "2       0.1590    -7.148     1       0.2890   75.044             4.0    0.173   \n",
      "3       0.0922   -15.236     1       0.0261   86.468             4.0    0.230   \n",
      "4       0.4390   -11.648     0       0.0694  174.004             4.0    0.904   \n",
      "...        ...       ...   ...          ...      ...             ...      ...   \n",
      "2012    0.1290    -3.501     1       0.3330   74.976             4.0    0.211   \n",
      "2013    0.0528    -2.663     1       0.1310  110.041             4.0    0.867   \n",
      "2014    0.2140    -2.467     1       0.1070  150.082             4.0    0.470   \n",
      "2015    0.0913    -2.735     1       0.1330  150.011             4.0    0.623   \n",
      "2016    0.2180    -6.221     1       0.1410  190.013             4.0    0.402   \n",
      "\n",
      "      target                            song_title            artist  \n",
      "0          1                              Mask Off            Future  \n",
      "1          1                               Redbone  Childish Gambino  \n",
      "2          1                          Xanny Family            Future  \n",
      "3          1                        Master Of None       Beach House  \n",
      "4          1                        Parallel Lines       Junior Boys  \n",
      "...      ...                                   ...               ...  \n",
      "2012       0   Like A Bitch - Kill The Noise Remix    Kill The Noise  \n",
      "2013       0                                 Candy    Dillon Francis  \n",
      "2014       0  Habit - Dack Janiels & Wenzday Remix          Rain Man  \n",
      "2015       0                         First Contact        Twin Moons  \n",
      "2016       0                    I Wanna Get Better         Bleachers  \n",
      "\n",
      "[2017 rows x 16 columns]\n"
     ]
    }
   ],
   "source": [
    "import os\n",
    "\n",
    "spotify_df=pd.read_csv(\"spotify.csv\", index_col=0)\n",
    "\n",
    "print(spotify_df)"
   ]
  },
  {
   "cell_type": "markdown",
   "metadata": {},
   "source": [
    "Excluding the target, how many columns (potential features) does the dataset include?"
   ]
  },
  {
   "cell_type": "markdown",
   "metadata": {},
   "source": [
    "There are 15 columns (potential features) included in the dataset (excluding the target)."
   ]
  },
  {
   "cell_type": "markdown",
   "metadata": {},
   "source": [
    "#### 1(b)\n",
    "rubric={points:2}\n",
    "\n",
    "Run the following line of code to split the data. How many training and test examples do we have?\n",
    "\n",
    "> Note: we are setting the `random_state` so that everyone has the same split on their assignments. This will make it easier for the TAs to grade."
   ]
  },
  {
   "cell_type": "code",
   "execution_count": 3,
   "metadata": {},
   "outputs": [
    {
     "name": "stdout",
     "output_type": "stream",
     "text": [
      "(1613, 16)\n",
      "(404, 16)\n"
     ]
    }
   ],
   "source": [
    "df_train, df_test = train_test_split(spotify_df, test_size=0.2, random_state=321)\n",
    "\n",
    "print(df_train.shape)\n",
    "print(df_test.shape)"
   ]
  },
  {
   "cell_type": "markdown",
   "metadata": {},
   "source": [
    "There are 1613 training examples and 404 test examples."
   ]
  },
  {
   "cell_type": "markdown",
   "metadata": {},
   "source": [
    "#### 1(c)\n",
    "rubric={points:3}\n",
    "\n",
    "- Print out the output of `describe()` **on the training split**. This will compute some summary statistics of the numeric columns.\n",
    "- Which feature has the largest range? \n",
    "\n",
    "> Hint: You can subtract the min value from the max value of the column to get the range.\n",
    "\n",
    "Note that `describe` returns another DataFrame."
   ]
  },
  {
   "cell_type": "code",
   "execution_count": 4,
   "metadata": {},
   "outputs": [
    {
     "name": "stdout",
     "output_type": "stream",
     "text": [
      "       acousticness  danceability   duration_ms       energy  \\\n",
      "count   1613.000000   1613.000000  1.613000e+03  1613.000000   \n",
      "mean       0.185067      0.620076  2.462533e+05     0.681315   \n",
      "std        0.255838      0.161152  8.056740e+04     0.206964   \n",
      "min        0.000003      0.148000  1.604200e+04     0.015600   \n",
      "25%        0.010000      0.514000  1.999040e+05     0.564000   \n",
      "50%        0.062600      0.634000  2.298590e+05     0.712000   \n",
      "75%        0.260000      0.739000  2.703330e+05     0.841000   \n",
      "max        0.994000      0.984000  1.004627e+06     0.997000   \n",
      "\n",
      "       instrumentalness          key     liveness     loudness         mode  \\\n",
      "count       1613.000000  1613.000000  1613.000000  1613.000000  1613.000000   \n",
      "mean           0.134317     5.384377     0.191317    -7.095272     0.619343   \n",
      "std            0.274217     3.653722     0.156071     3.678993     0.485699   \n",
      "min            0.000000     0.000000     0.018800   -31.082000     0.000000   \n",
      "25%            0.000000     2.000000     0.092200    -8.388000     0.000000   \n",
      "50%            0.000088     6.000000     0.125000    -6.298000     1.000000   \n",
      "75%            0.055900     9.000000     0.250000    -4.833000     1.000000   \n",
      "max            0.976000    11.000000     0.969000    -0.718000     1.000000   \n",
      "\n",
      "       speechiness        tempo  time_signature      valence       target  \n",
      "count  1613.000000  1613.000000     1613.000000  1613.000000  1613.000000  \n",
      "mean      0.092119   121.310311        3.975201     0.495891     0.512089  \n",
      "std       0.088007    26.431574        0.247829     0.244267     0.500009  \n",
      "min       0.023100    47.859000        1.000000     0.037300     0.000000  \n",
      "25%       0.037500   100.221000        4.000000     0.298000     0.000000  \n",
      "50%       0.055300   121.241000        4.000000     0.492000     1.000000  \n",
      "75%       0.107000   136.894000        4.000000     0.689000     1.000000  \n",
      "max       0.622000   219.331000        5.000000     0.974000     1.000000  \n"
     ]
    }
   ],
   "source": [
    "describe_df = df_train.describe()\n",
    "print(describe_df)\n",
    "\n",
    "for column in describe_df:\n",
    "    describe_df[column] = describe_df[column] / describe_df[column].abs().max()"
   ]
  },
  {
   "cell_type": "code",
   "execution_count": 5,
   "metadata": {},
   "outputs": [
    {
     "name": "stdout",
     "output_type": "stream",
     "text": [
      "acousticness        0.000616\n",
      "danceability        0.000518\n",
      "duration_ms         0.984032\n",
      "energy              0.000608\n",
      "instrumentalness    0.000605\n",
      "key                 0.006820\n",
      "liveness            0.000589\n",
      "loudness            0.018825\n",
      "mode                0.000620\n",
      "speechiness         0.000371\n",
      "tempo               0.106306\n",
      "time_signature      0.002480\n",
      "valence             0.000581\n",
      "target              0.000620\n",
      "dtype: float64\n"
     ]
    }
   ],
   "source": [
    "range_df = describe_df.loc['max'] - describe_df.loc['min']\n",
    "print(range_df)"
   ]
  },
  {
   "cell_type": "markdown",
   "metadata": {},
   "source": [
    "The feature with the largest range is duration_ms."
   ]
  },
  {
   "cell_type": "markdown",
   "metadata": {
    "nbgrader": {
     "grade": false,
     "grade_id": "cell-b33320bcf667584a",
     "locked": true,
     "schema_version": 3,
     "solution": false
    }
   },
   "source": [
    "#### 1(d) \n",
    "rubric={points:5}\n",
    "\n",
    "Let's focus on the following features:\n",
    "\n",
    "- danceability\n",
    "- tempo\n",
    "- energy\n",
    "- valence\n",
    "\n",
    "For each of these features (in order), produce a histogram that shows the distribution of the feature values in the training set, **separated for positive and negative examples**. \n",
    "By \"positive examples\" we mean target = 1 (user liked the song, positive sentiment) and by \"negative examples\" we mean target = 0 (used disliked the song, negative sentiment). As an example, here is what the histogram would look like for a different feature, loudness:\n",
    "\n"
   ]
  },
  {
   "cell_type": "markdown",
   "metadata": {},
   "source": [
    "<img src='loudness.png' width=\"400\">\n",
    "\n",
    "(You don't have to match all the details exactly, such as colour, but your histograms should look something like this, with a reasonable number of bins to see the shape of the distribution.) As shown above, there are two different histograms, one for target = 0 and one for target = 1, and they are overlaid on top of each other. The histogram above shows that extremely quiet songs tend to be disliked (more blue bars than orange on the left) and very loud songs also tend to be disliked (more blue than orange on the far right).\n",
    "\n",
    "To adhere to the [DRY (Don't Repeat Yourself)](https://en.wikipedia.org/wiki/Don%27t_repeat_yourself) principle, make sure you use a `for` loop for your plotting, rather than repeating the plotting code 4 times. For this to work, I used `plt.show()` at the end of the loop, which draws the figure and resets the canvas for your next plot."
   ]
  },
  {
   "cell_type": "markdown",
   "metadata": {},
   "source": [
    "Here is some code that separates out the dataset into positive and negative examples, to help you get started:"
   ]
  },
  {
   "cell_type": "code",
   "execution_count": 6,
   "metadata": {},
   "outputs": [],
   "source": [
    "negative_examples = df_train.query(\"target == 0\")\n",
    "positive_examples = df_train.query(\"target == 1\")"
   ]
  },
  {
   "cell_type": "code",
   "execution_count": 7,
   "metadata": {},
   "outputs": [
    {
     "data": {
      "image/png": "[encoded data removed]",
      "text/plain": [
       "<Figure size 640x480 with 1 Axes>"
      ]
     },
     "metadata": {},
     "output_type": "display_data"
    },
    {
     "data": {
      "image/png": "[encoded data removed]",
      "text/plain": [
       "<Figure size 640x480 with 1 Axes>"
      ]
     },
     "metadata": {},
     "output_type": "display_data"
    },
    {
     "data": {
      "image/png": "[encoded data removed]",
      "text/plain": [
       "<Figure size 640x480 with 1 Axes>"
      ]
     },
     "metadata": {},
     "output_type": "display_data"
    },
    {
     "data": {
      "image/png": "[encoded data removed]",
      "text/plain": [
       "<Figure size 640x480 with 1 Axes>"
      ]
     },
     "metadata": {},
     "output_type": "display_data"
    }
   ],
   "source": [
    "target_columns = [\"danceability\", \"tempo\", \"energy\", \"valence\"]\n",
    "\n",
    "for item in target_columns:\n",
    "    negative_df = negative_examples[item]\n",
    "    positive_df = positive_examples[item]\n",
    "    \n",
    "    plt.hist(negative_df, 12, alpha=0.5, label='0')\n",
    "    plt.hist(positive_df, 12, alpha=0.5, label='1')\n",
    "    plt.legend(loc='upper right')\n",
    "    plt.title(\"Histogram of \" + item + \" by Target Class\")\n",
    "    plt.xlabel(item)\n",
    "    plt.ylabel(\"count\")\n",
    "    \n",
    "    plt.show()\n",
    "\n",
    "\n"
   ]
  },
  {
   "cell_type": "markdown",
   "metadata": {},
   "source": [
    "#### 1(e)\n",
    "rubric={points:4}\n",
    "\n",
    "Let's say you had to make a decision stump (decision tree with depth 1), _by hand_, to predict the target class. Just from looking at the plots above, describe a reasonable split (feature name and threshold) and what class you would predict in the two cases. For example, in the loudness histogram provided earlier on, it seems that very large values of loudness are generally disliked (more blue on the right side of the histogram), so you might answer something like this: \"A reasonable split would be to predict 0 if loudness > -5 (and predict 1 otherwise).\""
   ]
  },
  {
   "cell_type": "markdown",
   "metadata": {},
   "source": [
    "Danceability - A reasonable split would be to predict 1 if danceability>0.7 (and predict 0 otherwise)"
   ]
  },
  {
   "cell_type": "markdown",
   "metadata": {},
   "source": [
    "Tempo - A reasonable split would be to predict 1 if tempo>100 (and predict 0 otherwise)"
   ]
  },
  {
   "cell_type": "markdown",
   "metadata": {},
   "source": [
    "Energy - A reasonable split would be to predict 1 if energy>0.3 (and predict 0 otherwise)"
   ]
  },
  {
   "cell_type": "markdown",
   "metadata": {},
   "source": [
    "Valence - A reasonable split would be to predict 1 if valence>0.5 (and predict 0 otherwise)"
   ]
  },
  {
   "cell_type": "markdown",
   "metadata": {},
   "source": [
    "#### 1(f)\n",
    "rubric={points:2}\n",
    "\n",
    "Let's say that, for a particular feature, the histograms of that feature are identical for the two target classes. Does that mean the feature is not useful for predicting the target class?\n",
    "\n"
   ]
  },
  {
   "cell_type": "markdown",
   "metadata": {},
   "source": [
    "Yes, if the histograms of the feature for the two target class are identical, then the feature is not useful for predicting the target class as it provides no information on how the examples are different for a clear decision."
   ]
  },
  {
   "cell_type": "markdown",
   "metadata": {
    "nbgrader": {
     "grade": false,
     "grade_id": "cell-86f9e0c649669daf",
     "locked": true,
     "schema_version": 3,
     "solution": false,
     "task": false
    }
   },
   "source": [
    "#### 1(g) \n",
    "rubric={points:2}\n",
    "\n",
    "Note that the dataset includes two free text features labeled `song_title` and `artist`:"
   ]
  },
  {
   "cell_type": "code",
   "execution_count": 8,
   "metadata": {},
   "outputs": [
    {
     "data": {
      "text/html": [
       "<div>\n",
       "<style scoped>\n",
       "    .dataframe tbody tr th:only-of-type {\n",
       "        vertical-align: middle;\n",
       "    }\n",
       "\n",
       "    .dataframe tbody tr th {\n",
       "        vertical-align: top;\n",
       "    }\n",
       "\n",
       "    .dataframe thead th {\n",
       "        text-align: right;\n",
       "    }\n",
       "</style>\n",
       "<table border=\"1\" class=\"dataframe\">\n",
       "  <thead>\n",
       "    <tr style=\"text-align: right;\">\n",
       "      <th></th>\n",
       "      <th>song_title</th>\n",
       "      <th>artist</th>\n",
       "    </tr>\n",
       "  </thead>\n",
       "  <tbody>\n",
       "    <tr>\n",
       "      <th>260</th>\n",
       "      <td>WTF (Where They From) [feat. Pharrell Williams]</td>\n",
       "      <td>Missy Elliott</td>\n",
       "    </tr>\n",
       "    <tr>\n",
       "      <th>1286</th>\n",
       "      <td>10,000 Reasons (Bless the Lord) [Radio Version]</td>\n",
       "      <td>Matt Redman</td>\n",
       "    </tr>\n",
       "    <tr>\n",
       "      <th>1344</th>\n",
       "      <td>American Dream</td>\n",
       "      <td>Chelsea Grin</td>\n",
       "    </tr>\n",
       "    <tr>\n",
       "      <th>1197</th>\n",
       "      <td>Feel This Moment</td>\n",
       "      <td>Pitbull</td>\n",
       "    </tr>\n",
       "    <tr>\n",
       "      <th>119</th>\n",
       "      <td>Trap Queen</td>\n",
       "      <td>Fetty Wap</td>\n",
       "    </tr>\n",
       "  </tbody>\n",
       "</table>\n",
       "</div>"
      ],
      "text/plain": [
       "                                           song_title         artist\n",
       "260   WTF (Where They From) [feat. Pharrell Williams]  Missy Elliott\n",
       "1286  10,000 Reasons (Bless the Lord) [Radio Version]    Matt Redman\n",
       "1344                                   American Dream   Chelsea Grin\n",
       "1197                                 Feel This Moment        Pitbull\n",
       "119                                        Trap Queen      Fetty Wap"
      ]
     },
     "execution_count": 8,
     "metadata": {},
     "output_type": "execute_result"
    }
   ],
   "source": [
    "df_train[[\"song_title\", \"artist\"]].head()"
   ]
  },
  {
   "cell_type": "markdown",
   "metadata": {},
   "source": [
    "- Do you think these features could be useful in predicting whether the user liked the song or not? \n",
    "- Would there be any difficulty in using them in your model?   "
   ]
  },
  {
   "cell_type": "markdown",
   "metadata": {
    "nbgrader": {
     "grade": true,
     "grade_id": "cell-dce517defdc16360",
     "locked": false,
     "points": 0,
     "schema_version": 3,
     "solution": true,
     "task": false
    }
   },
   "source": [
    "Yes, the `song_title` and `artist` features could be useful in predicting whether the user liked the song or not. For example, most song titles give connotation to a specific topic or genre of music and many users like songs from the same artists. There would be difficulty in using them in the model as they are text which would require extra pre-processing steps to use."
   ]
  },
  {
   "cell_type": "markdown",
   "metadata": {},
   "source": [
    "<br><br>"
   ]
  },
  {
   "cell_type": "markdown",
   "metadata": {
    "nbgrader": {
     "grade": false,
     "grade_id": "cell-1440876fbc49ead5",
     "locked": true,
     "schema_version": 3,
     "solution": false,
     "task": false
    }
   },
   "source": [
    "## Exercise 2: Using sklearn to build a decision tree classifier"
   ]
  },
  {
   "cell_type": "markdown",
   "metadata": {
    "nbgrader": {
     "grade": false,
     "grade_id": "cell-706403e72adade4b",
     "locked": true,
     "schema_version": 3,
     "solution": false
    }
   },
   "source": [
    "#### 2(a) \n",
    "rubric={points:2}\n",
    "\n",
    "- Create `X_train` and `y_train` and `X_test` and `y_test` from `df_train` and `df_test` above. Skip the `song_title` and `artist` features for now. \n",
    "- Fit a `DecisionTreeClassifier` on the train set."
   ]
  },
  {
   "cell_type": "code",
   "execution_count": 9,
   "metadata": {
    "nbgrader": {
     "grade": true,
     "grade_id": "cell-859d4a70667da85d",
     "locked": false,
     "points": 0,
     "schema_version": 3,
     "solution": true,
     "task": false
    }
   },
   "outputs": [
    {
     "data": {
      "text/html": [
       "<style>#sk-container-id-1 {color: black;background-color: white;}#sk-container-id-1 pre{padding: 0;}#sk-container-id-1 div.sk-toggleable {background-color: white;}#sk-container-id-1 label.sk-toggleable__label {cursor: pointer;display: block;width: 100%;margin-bottom: 0;padding: 0.3em;box-sizing: border-box;text-align: center;}#sk-container-id-1 label.sk-toggleable__label-arrow:before {content: \"▸\";float: left;margin-right: 0.25em;color: #696969;}#sk-container-id-1 label.sk-toggleable__label-arrow:hover:before {color: black;}#sk-container-id-1 div.sk-estimator:hover label.sk-toggleable__label-arrow:before {color: black;}#sk-container-id-1 div.sk-toggleable__content {max-height: 0;max-width: 0;overflow: hidden;text-align: left;background-color: #f0f8ff;}#sk-container-id-1 div.sk-toggleable__content pre {margin: 0.2em;color: black;border-radius: 0.25em;background-color: #f0f8ff;}#sk-container-id-1 input.sk-toggleable__control:checked~div.sk-toggleable__content {max-height: 200px;max-width: 100%;overflow: auto;}#sk-container-id-1 input.sk-toggleable__control:checked~label.sk-toggleable__label-arrow:before {content: \"▾\";}#sk-container-id-1 div.sk-estimator input.sk-toggleable__control:checked~label.sk-toggleable__label {background-color: #d4ebff;}#sk-container-id-1 div.sk-label input.sk-toggleable__control:checked~label.sk-toggleable__label {background-color: #d4ebff;}#sk-container-id-1 input.sk-hidden--visually {border: 0;clip: rect(1px 1px 1px 1px);clip: rect(1px, 1px, 1px, 1px);height: 1px;margin: -1px;overflow: hidden;padding: 0;position: absolute;width: 1px;}#sk-container-id-1 div.sk-estimator {font-family: monospace;background-color: #f0f8ff;border: 1px dotted black;border-radius: 0.25em;box-sizing: border-box;margin-bottom: 0.5em;}#sk-container-id-1 div.sk-estimator:hover {background-color: #d4ebff;}#sk-container-id-1 div.sk-parallel-item::after {content: \"\";width: 100%;border-bottom: 1px solid gray;flex-grow: 1;}#sk-container-id-1 div.sk-label:hover label.sk-toggleable__label {background-color: #d4ebff;}#sk-container-id-1 div.sk-serial::before {content: \"\";position: absolute;border-left: 1px solid gray;box-sizing: border-box;top: 0;bottom: 0;left: 50%;z-index: 0;}#sk-container-id-1 div.sk-serial {display: flex;flex-direction: column;align-items: center;background-color: white;padding-right: 0.2em;padding-left: 0.2em;position: relative;}#sk-container-id-1 div.sk-item {position: relative;z-index: 1;}#sk-container-id-1 div.sk-parallel {display: flex;align-items: stretch;justify-content: center;background-color: white;position: relative;}#sk-container-id-1 div.sk-item::before, #sk-container-id-1 div.sk-parallel-item::before {content: \"\";position: absolute;border-left: 1px solid gray;box-sizing: border-box;top: 0;bottom: 0;left: 50%;z-index: -1;}#sk-container-id-1 div.sk-parallel-item {display: flex;flex-direction: column;z-index: 1;position: relative;background-color: white;}#sk-container-id-1 div.sk-parallel-item:first-child::after {align-self: flex-end;width: 50%;}#sk-container-id-1 div.sk-parallel-item:last-child::after {align-self: flex-start;width: 50%;}#sk-container-id-1 div.sk-parallel-item:only-child::after {width: 0;}#sk-container-id-1 div.sk-dashed-wrapped {border: 1px dashed gray;margin: 0 0.4em 0.5em 0.4em;box-sizing: border-box;padding-bottom: 0.4em;background-color: white;}#sk-container-id-1 div.sk-label label {font-family: monospace;font-weight: bold;display: inline-block;line-height: 1.2em;}#sk-container-id-1 div.sk-label-container {text-align: center;}#sk-container-id-1 div.sk-container {/* jupyter's `normalize.less` sets `[hidden] { display: none; }` but bootstrap.min.css set `[hidden] { display: none !important; }` so we also need the `!important` here to be able to override the default hidden behavior on the sphinx rendered scikit-learn.org. See: https://github.com/scikit-learn/scikit-learn/issues/21755 */display: inline-block !important;position: relative;}#sk-container-id-1 div.sk-text-repr-fallback {display: none;}</style><div id=\"sk-container-id-1\" class=\"sk-top-container\"><div class=\"sk-text-repr-fallback\"><pre>DecisionTreeClassifier()</pre><b>In a Jupyter environment, please rerun this cell to show the HTML representation or trust the notebook. <br />On GitHub, the HTML representation is unable to render, please try loading this page with nbviewer.org.</b></div><div class=\"sk-container\" hidden><div class=\"sk-item\"><div class=\"sk-estimator sk-toggleable\"><input class=\"sk-toggleable__control sk-hidden--visually\" id=\"sk-estimator-id-1\" type=\"checkbox\" checked><label for=\"sk-estimator-id-1\" class=\"sk-toggleable__label sk-toggleable__label-arrow\">DecisionTreeClassifier</label><div class=\"sk-toggleable__content\"><pre>DecisionTreeClassifier()</pre></div></div></div></div></div>"
      ],
      "text/plain": [
       "DecisionTreeClassifier()"
      ]
     },
     "execution_count": 9,
     "metadata": {},
     "output_type": "execute_result"
    }
   ],
   "source": [
    "X_train = df_train.drop(columns=[\"target\", \"song_title\", \"artist\"])\n",
    "y_train = df_train[\"target\"]\n",
    "X_test = df_test.drop(columns=[\"target\", \"song_title\", \"artist\"])\n",
    "y_test = df_test[\"target\"]\n",
    "\n",
    "model = DecisionTreeClassifier()\n",
    "model.fit(X_train, y_train)"
   ]
  },
  {
   "cell_type": "markdown",
   "metadata": {
    "nbgrader": {
     "grade": false,
     "grade_id": "cell-43ac6f91bc3bd9da",
     "locked": true,
     "schema_version": 3,
     "solution": false
    }
   },
   "source": [
    "#### 2(b)\n",
    "rubric={points:2}\n",
    "\n",
    "Use the `predict` method to predict the class of the tenth example in your `X_train`. Is the prediction correct? That is, does it match with the corresponding class in `y_train`?  \n",
    "\n",
    "> Hint: you can grab the tenth example with `X_train.iloc[[9]]`."
   ]
  },
  {
   "cell_type": "code",
   "execution_count": 10,
   "metadata": {},
   "outputs": [
    {
     "name": "stdout",
     "output_type": "stream",
     "text": [
      "[1]\n",
      "1\n"
     ]
    }
   ],
   "source": [
    "y_prediction = model.predict(X_train.iloc[[9]]) \n",
    "print(y_prediction)\n",
    "print(y_train[9])"
   ]
  },
  {
   "cell_type": "markdown",
   "metadata": {},
   "source": [
    "Yes, the prediction is correct. It is [1] which matches with the corresponding class in `y_train`."
   ]
  },
  {
   "cell_type": "markdown",
   "metadata": {},
   "source": [
    "#### 2(c) \n",
    "rubric={points:2}\n",
    "\n",
    "Use the `cross_val_score` function on your training set to compute the 10-fold cross-validation accuracy of your tree. "
   ]
  },
  {
   "cell_type": "code",
   "execution_count": 11,
   "metadata": {},
   "outputs": [
    {
     "name": "stdout",
     "output_type": "stream",
     "text": [
      "Average cross-validation score = 0.687\n"
     ]
    }
   ],
   "source": [
    "cv_scores = cross_val_score(model, X_train, y_train, cv=10)\n",
    "print(f\"Average cross-validation score = {np.mean(cv_scores):.3f}\")"
   ]
  },
  {
   "cell_type": "markdown",
   "metadata": {},
   "source": [
    "#### 2(d)\n",
    "rubric={points:2}\n",
    "\n",
    "The above is useful, but we would like to see the training accuracy as well. \n",
    "\n",
    "- Compute the 10-fold cross-validation again but this time using the `cross_validate` function with `return_train_score=True`. \n",
    "- Print out both the cross-validation score and the training score.\n",
    "- Is your cross-validation score exactly the same as what you got in the previous part? Very briefly discuss."
   ]
  },
  {
   "cell_type": "code",
   "execution_count": 12,
   "metadata": {},
   "outputs": [
    {
     "name": "stdout",
     "output_type": "stream",
     "text": [
      "Train score:   0.999\n",
      "Validation score:   0.682\n"
     ]
    }
   ],
   "source": [
    "scores = cross_validate(model, X_train, y_train, cv=10, return_train_score=True)\n",
    "print(\"Train score:   %0.3f\" % ( np.mean(scores[\"train_score\"])))\n",
    "print(\"Validation score:   %0.3f\" % (np.mean(scores[\"test_score\"])))"
   ]
  },
  {
   "cell_type": "markdown",
   "metadata": {},
   "source": [
    "No, the cross-validation score is not exactly the same as in the previous part. They are only different by 0.5%. The score from `cross_validate` is smaller than the score from `cross_val_score`. "
   ]
  },
  {
   "cell_type": "markdown",
   "metadata": {},
   "source": [
    "#### 2(e)\n",
    "rubric={points:1}\n",
    "\n",
    "Do you see a significant difference between the training score and the cross-validation score? Briefly discuss."
   ]
  },
  {
   "cell_type": "markdown",
   "metadata": {
    "nbgrader": {
     "grade": true,
     "grade_id": "cell-a89757274fc5586f",
     "locked": false,
     "points": 0,
     "schema_version": 3,
     "solution": true,
     "task": false
    }
   },
   "source": [
    "Yes, there is a significant difference between the training score and the cross-validation score. This can represent overfitting as the train score is much higher than the validation score. There is a difference of 0.999-0.679 = 0.320."
   ]
  },
  {
   "cell_type": "markdown",
   "metadata": {},
   "source": [
    "#### 2(f)\n",
    "rubric={points:1}\n",
    "\n",
    "Inspect the 10 sub-scores from the 10 folds of cross-validation. How does this inform the trustworthiness of your cross validation score?"
   ]
  },
  {
   "cell_type": "markdown",
   "metadata": {
    "nbgrader": {
     "grade": true,
     "grade_id": "cell-a89757274fc5586f",
     "locked": false,
     "points": 0,
     "schema_version": 3,
     "solution": true,
     "task": false
    }
   },
   "source": [
    "Assuming that the sub-scores to inspect are from `cross_validate`:"
   ]
  },
  {
   "cell_type": "code",
   "execution_count": 13,
   "metadata": {},
   "outputs": [
    {
     "data": {
      "text/plain": [
       "array([0.67283951, 0.62962963, 0.64814815, 0.71428571, 0.73913043,\n",
       "       0.59627329, 0.7515528 , 0.7515528 , 0.63975155, 0.67701863])"
      ]
     },
     "execution_count": 13,
     "metadata": {},
     "output_type": "execute_result"
    }
   ],
   "source": [
    "scores['test_score'] "
   ]
  },
  {
   "cell_type": "markdown",
   "metadata": {},
   "source": [
    "From inspection of the 10 sub-scores, the highest score is 0.739 and the lowest is 0.596 which is ~10% accuracy difference. This informs us that the cross validation is not completely trustworthy because of the high variance amongst the sub-scores."
   ]
  },
  {
   "cell_type": "markdown",
   "metadata": {
    "nbgrader": {
     "grade": false,
     "grade_id": "cell-4150979c1845a18c",
     "locked": true,
     "schema_version": 3,
     "solution": false,
     "task": false
    }
   },
   "source": [
    "## Exercise 3: Hyperparameters \n",
    "rubric={points:10}\n",
    "\n",
    "In this exercise, you'll experiment with the `max_depth` hyperparameter of the decision tree classifier. See the [`DecisionTreeClassifier` documentation](https://scikit-learn.org/stable/modules/generated/sklearn.tree.DecisionTreeClassifier.html) for more details.\n",
    "\n",
    "- Explore the `max_depth` hyperparameter. Run 10-fold cross-validation for trees with different values of `max_depth` (at least 10 different values in the range 1 to 25).\n",
    "- For each `max_depth`, get both the train accuracy and the cross-validation accuracy.\n",
    "- Make a plot with `max_depth` on the *x*-axis and the train and cross-validation scores on the *y*-axis. That is, your plot should have two curves, one for train and one for cross-validation. Include a legend to specify which is which.\n",
    "- Discuss how changing the `max_depth` hyperparameter affects the training and cross-validation accuracy. From these results, what depth would you pick as the optimal depth? \n",
    "- Do you think that the depth you chose would generalize to other \"spotify\" datasets (i.e., data on other spotify users)?\n",
    "\n",
    "> Note: generally speaking (for all assignments) you are welcome to copy/paste code directly from the lecture notes, though I ask that you add a small citation (e.g. \"Adapted from lecture 2\") if you do so."
   ]
  },
  {
   "cell_type": "code",
   "execution_count": 14,
   "metadata": {},
   "outputs": [
    {
     "data": {
      "image/png": "[encoded data removed]",
      "text/plain": [
       "<Figure size 640x480 with 1 Axes>"
      ]
     },
     "metadata": {},
     "output_type": "display_data"
    }
   ],
   "source": [
    "#Adapted from Lecture 3\n",
    "\n",
    "results_dict = {\n",
    "    \"max_depth\": [],\n",
    "    \"train_score\": [],\n",
    "    \"validation_score\": [],\n",
    "}\n",
    "param_grid = {\"max_depth\": np.arange(1, 25)}\n",
    "\n",
    "for depth in param_grid[\"max_depth\"]:\n",
    "    model = DecisionTreeClassifier(max_depth=depth)\n",
    "    scores = cross_validate(model, X_train, y_train, cv=10, return_train_score=True)\n",
    "    results_dict[\"max_depth\"].append(depth)\n",
    "    results_dict[\"validation_score\"].append(np.mean(scores[\"test_score\"]))\n",
    "    results_dict[\"train_score\"].append(np.mean(scores[\"train_score\"]))\n",
    "\n",
    "results_df = pd.DataFrame(results_dict)\n",
    "results_df = results_df.set_index(\"max_depth\")\n",
    "\n",
    "results_df[[\"train_score\", \"validation_score\"]].plot();"
   ]
  },
  {
   "cell_type": "code",
   "execution_count": 15,
   "metadata": {},
   "outputs": [
    {
     "data": {
      "text/html": [
       "<div>\n",
       "<style scoped>\n",
       "    .dataframe tbody tr th:only-of-type {\n",
       "        vertical-align: middle;\n",
       "    }\n",
       "\n",
       "    .dataframe tbody tr th {\n",
       "        vertical-align: top;\n",
       "    }\n",
       "\n",
       "    .dataframe thead th {\n",
       "        text-align: right;\n",
       "    }\n",
       "</style>\n",
       "<table border=\"1\" class=\"dataframe\">\n",
       "  <thead>\n",
       "    <tr style=\"text-align: right;\">\n",
       "      <th></th>\n",
       "      <th>train_score</th>\n",
       "      <th>validation_score</th>\n",
       "    </tr>\n",
       "    <tr>\n",
       "      <th>max_depth</th>\n",
       "      <th></th>\n",
       "      <th></th>\n",
       "    </tr>\n",
       "  </thead>\n",
       "  <tbody>\n",
       "    <tr>\n",
       "      <th>1</th>\n",
       "      <td>0.645519</td>\n",
       "      <td>0.641063</td>\n",
       "    </tr>\n",
       "    <tr>\n",
       "      <th>2</th>\n",
       "      <td>0.717986</td>\n",
       "      <td>0.710505</td>\n",
       "    </tr>\n",
       "    <tr>\n",
       "      <th>3</th>\n",
       "      <td>0.731625</td>\n",
       "      <td>0.709888</td>\n",
       "    </tr>\n",
       "    <tr>\n",
       "      <th>4</th>\n",
       "      <td>0.764345</td>\n",
       "      <td>0.732781</td>\n",
       "    </tr>\n",
       "    <tr>\n",
       "      <th>5</th>\n",
       "      <td>0.792589</td>\n",
       "      <td>0.710517</td>\n",
       "    </tr>\n",
       "    <tr>\n",
       "      <th>6</th>\n",
       "      <td>0.823174</td>\n",
       "      <td>0.716095</td>\n",
       "    </tr>\n",
       "    <tr>\n",
       "      <th>7</th>\n",
       "      <td>0.857892</td>\n",
       "      <td>0.706779</td>\n",
       "    </tr>\n",
       "    <tr>\n",
       "      <th>8</th>\n",
       "      <td>0.887304</td>\n",
       "      <td>0.714865</td>\n",
       "    </tr>\n",
       "    <tr>\n",
       "      <th>9</th>\n",
       "      <td>0.915064</td>\n",
       "      <td>0.711134</td>\n",
       "    </tr>\n",
       "    <tr>\n",
       "      <th>10</th>\n",
       "      <td>0.937796</td>\n",
       "      <td>0.717349</td>\n",
       "    </tr>\n",
       "    <tr>\n",
       "      <th>11</th>\n",
       "      <td>0.958806</td>\n",
       "      <td>0.700575</td>\n",
       "    </tr>\n",
       "    <tr>\n",
       "      <th>12</th>\n",
       "      <td>0.972720</td>\n",
       "      <td>0.696285</td>\n",
       "    </tr>\n",
       "    <tr>\n",
       "      <th>13</th>\n",
       "      <td>0.980712</td>\n",
       "      <td>0.690081</td>\n",
       "    </tr>\n",
       "    <tr>\n",
       "      <th>14</th>\n",
       "      <td>0.988634</td>\n",
       "      <td>0.688835</td>\n",
       "    </tr>\n",
       "    <tr>\n",
       "      <th>15</th>\n",
       "      <td>0.993249</td>\n",
       "      <td>0.695660</td>\n",
       "    </tr>\n",
       "    <tr>\n",
       "      <th>16</th>\n",
       "      <td>0.995591</td>\n",
       "      <td>0.688831</td>\n",
       "    </tr>\n",
       "    <tr>\n",
       "      <th>17</th>\n",
       "      <td>0.997589</td>\n",
       "      <td>0.687589</td>\n",
       "    </tr>\n",
       "    <tr>\n",
       "      <th>18</th>\n",
       "      <td>0.998347</td>\n",
       "      <td>0.690695</td>\n",
       "    </tr>\n",
       "    <tr>\n",
       "      <th>19</th>\n",
       "      <td>0.998622</td>\n",
       "      <td>0.682034</td>\n",
       "    </tr>\n",
       "    <tr>\n",
       "      <th>20</th>\n",
       "      <td>0.998760</td>\n",
       "      <td>0.686366</td>\n",
       "    </tr>\n",
       "    <tr>\n",
       "      <th>21</th>\n",
       "      <td>0.998829</td>\n",
       "      <td>0.683847</td>\n",
       "    </tr>\n",
       "    <tr>\n",
       "      <th>22</th>\n",
       "      <td>0.998898</td>\n",
       "      <td>0.683226</td>\n",
       "    </tr>\n",
       "    <tr>\n",
       "      <th>23</th>\n",
       "      <td>0.998898</td>\n",
       "      <td>0.686960</td>\n",
       "    </tr>\n",
       "    <tr>\n",
       "      <th>24</th>\n",
       "      <td>0.998898</td>\n",
       "      <td>0.684495</td>\n",
       "    </tr>\n",
       "  </tbody>\n",
       "</table>\n",
       "</div>"
      ],
      "text/plain": [
       "           train_score  validation_score\n",
       "max_depth                               \n",
       "1             0.645519          0.641063\n",
       "2             0.717986          0.710505\n",
       "3             0.731625          0.709888\n",
       "4             0.764345          0.732781\n",
       "5             0.792589          0.710517\n",
       "6             0.823174          0.716095\n",
       "7             0.857892          0.706779\n",
       "8             0.887304          0.714865\n",
       "9             0.915064          0.711134\n",
       "10            0.937796          0.717349\n",
       "11            0.958806          0.700575\n",
       "12            0.972720          0.696285\n",
       "13            0.980712          0.690081\n",
       "14            0.988634          0.688835\n",
       "15            0.993249          0.695660\n",
       "16            0.995591          0.688831\n",
       "17            0.997589          0.687589\n",
       "18            0.998347          0.690695\n",
       "19            0.998622          0.682034\n",
       "20            0.998760          0.686366\n",
       "21            0.998829          0.683847\n",
       "22            0.998898          0.683226\n",
       "23            0.998898          0.686960\n",
       "24            0.998898          0.684495"
      ]
     },
     "execution_count": 15,
     "metadata": {},
     "output_type": "execute_result"
    }
   ],
   "source": [
    "results_df"
   ]
  },
  {
   "cell_type": "markdown",
   "metadata": {},
   "source": [
    "As the `max_depth` hyperparameter increases the `train_score` goes to 100% accuracy however the `validation_score` slowly decreases. This is as a result of overfitting the model to the training data resulting in a lack of generalization for the testing data. From this data, 4 should be selected as `max_depth` because it resulted in the highest `validation_score`. At this depth, the model should generalize well to other Spotify datasets."
   ]
  },
  {
   "cell_type": "markdown",
   "metadata": {},
   "source": [
    "## Exercise 4: Test set\n",
    "rubric={points:4}\n",
    "\n",
    "Remember the test set you created way back at the beginning of this assignment? Let's use it now to see if our cross-validation score from the previous exercise is trustworthy. \n",
    "\n",
    "- Select your favorite `max_depth` from the previous part.\n",
    "- Train a decision tree classifier using that `max_depth` on the _entire training set_.\n",
    "- Compute and display the test score. \n",
    "- How does it compare to the cross-validation score from the previous exercise? Briefly discuss. "
   ]
  },
  {
   "cell_type": "code",
   "execution_count": 16,
   "metadata": {},
   "outputs": [
    {
     "name": "stdout",
     "output_type": "stream",
     "text": [
      "Test score: 0.693\n"
     ]
    }
   ],
   "source": [
    "#Adapted from Lecture 3\n",
    "best_depth = 4\n",
    "model = DecisionTreeClassifier(max_depth=best_depth)\n",
    "model.fit(X_train, y_train)\n",
    "print(f\"Test score: {model.score(X_test, y_test):.3f}\")"
   ]
  },
  {
   "cell_type": "markdown",
   "metadata": {},
   "source": [
    "The previous validation score was 0.732 for a `max_depth` of 4 and this one is 0.693. That is a difference of only ~4%.  "
   ]
  },
  {
   "cell_type": "markdown",
   "metadata": {},
   "source": [
    "## Exercise 5: Conceptual questions\n",
    "rubric={points:3}\n",
    "\n",
    "Consider the dataset below, which has $6$ examples and $2$ features:\n",
    "\n",
    "$$ X = \\begin{bmatrix}5 & 2\\\\4 & 3\\\\  2 & 2\\\\ 10 & 10\\\\ 9 & -1\\\\ 9& 9\\end{bmatrix}, \\quad y = \\begin{bmatrix}-1\\\\-1\\\\-1\\\\-1\\\\+1\\\\+1\\end{bmatrix}.$$\n",
    "\n",
    "1. Say we fit a decision stump (depth 1 decision tree) and the first split is on the first feature (left column) being less than 5.5. What would we predict in the \"true\" and \"false\" cases here?\n",
    "2. What training accuracy would the above stump get on this data set?\n",
    "3. Can we obtain 100% accuracy with a single decision stump in this particular example?"
   ]
  },
  {
   "cell_type": "markdown",
   "metadata": {},
   "source": [
    "1. Assuming \"true\" = -1 and \"false\" = 1, with a split on the first feature (left column) being less than 5.5:\n",
    "$$Pred = \\begin{bmatrix}-1\\\\-1\\\\-1\\\\+1\\\\+1\\\\+1\\end{bmatrix}$$\n",
    "\n",
    "2. We would get 83.3% accuracy as one point would be wrongly classified (X=[10 10])\n",
    "3. Yes, we can get 100% accuracy in this particular example with a single decision of the first split on the first feature (left column) being not equal to 9. This would result in the given $y$."
   ]
  },
  {
   "cell_type": "markdown",
   "metadata": {},
   "source": [
    "## Submission instructions \n",
    "\n",
    "**PLEASE READ:** When you are ready to submit your assignment do the following:\n",
    "\n",
    "1. Run all cells in your notebook to make sure there are no errors by doing `Kernel -> Restart Kernel and Clear All Outputs` and then `Run -> Run All Cells`. \n",
    "2. Notebooks with cell execution numbers out of order or not starting from “1” will have marks deducted. Notebooks without the output displayed may not be graded at all (because we need to see the output in order to grade your work).\n",
    "3. Upload the assignment using Gradescope's drag and drop tool. Check out this [Gradescope Student Guide](https://lthub.ubc.ca/guides/gradescope-student-guide/) if you need help with Gradescope submission. "
   ]
  }
 ],
 "metadata": {
  "anaconda-cloud": {},
  "celltoolbar": "Create Assignment",
  "kernelspec": {
   "display_name": "Python [conda env:cpsc330]",
   "language": "python",
   "name": "conda-env-cpsc330-py"
  },
  "language_info": {
   "codemirror_mode": {
    "name": "ipython",
    "version": 3
   },
   "file_extension": ".py",
   "mimetype": "text/x-python",
   "name": "python",
   "nbconvert_exporter": "python",
   "pygments_lexer": "ipython3",
   "version": "3.10.8"
  }
 },
 "nbformat": 4,
 "nbformat_minor": 4
}
